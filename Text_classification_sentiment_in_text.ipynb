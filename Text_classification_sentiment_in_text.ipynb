{
  "nbformat": 4,
  "nbformat_minor": 0,
  "metadata": {
    "colab": {
      "name": "Text classification_sentiment in text.ipynb",
      "provenance": [],
      "collapsed_sections": [],
      "authorship_tag": "ABX9TyMhRTvOHiA8f0FPz5dhY7qK",
      "include_colab_link": true
    },
    "kernelspec": {
      "name": "python3",
      "display_name": "Python 3"
    },
    "accelerator": "GPU"
  },
  "cells": [
    {
      "cell_type": "markdown",
      "metadata": {
        "id": "view-in-github",
        "colab_type": "text"
      },
      "source": [
        "<a href=\"https://colab.research.google.com/github/patricktal/Deep-Learning-for-NLP/blob/master/Text_classification_sentiment_in_text.ipynb\" target=\"_parent\"><img src=\"https://colab.research.google.com/assets/colab-badge.svg\" alt=\"Open In Colab\"/></a>"
      ]
    },
    {
      "cell_type": "code",
      "metadata": {
        "id": "TyMbdPUrN48L",
        "colab_type": "code",
        "colab": {}
      },
      "source": [
        "import tensorflow as tf\n",
        "from tensorflow import keras\n",
        "from tensorflow.keras.preprocessing.text import Tokenizer "
      ],
      "execution_count": 2,
      "outputs": []
    },
    {
      "cell_type": "code",
      "metadata": {
        "id": "9zHC5gY4ORUI",
        "colab_type": "code",
        "colab": {}
      },
      "source": [
        "## Tokenization Example"
      ],
      "execution_count": 3,
      "outputs": []
    },
    {
      "cell_type": "code",
      "metadata": {
        "id": "x91FHRhHOcvK",
        "colab_type": "code",
        "colab": {
          "base_uri": "https://localhost:8080/",
          "height": 71
        },
        "outputId": "379c4bb8-9a4c-45e6-bbf1-1477e53d8da6"
      },
      "source": [
        "sentences = [\n",
        "    'I love my dog',\n",
        "    'I love my cat',\n",
        "    'You love my dog',\n",
        "    'Do you think my dog is amazing'\n",
        "]\n",
        "\n",
        "tokenizer = Tokenizer(num_words = 100, oov_token= \"<OOV>\") # num_words: max number word to keep\n",
        "tokenizer.fit_on_texts(sentences) # fit the text to tokenize\n",
        "word_index = tokenizer.word_index\n",
        "\n",
        "sequences = tokenizer.texts_to_sequences(sentences)\n",
        "\n",
        "print(word_index)\n",
        "print(sequences)"
      ],
      "execution_count": 4,
      "outputs": [
        {
          "output_type": "stream",
          "text": [
            "{'<OOV>': 1, 'my': 2, 'love': 3, 'dog': 4, 'i': 5, 'you': 6, 'cat': 7, 'do': 8, 'think': 9, 'is': 10, 'amazing': 11}\n",
            "[[5, 3, 2, 4], [5, 3, 2, 7], [6, 3, 2, 4], [8, 6, 9, 2, 4, 10, 11]]\n"
          ],
          "name": "stdout"
        }
      ]
    },
    {
      "cell_type": "code",
      "metadata": {
        "id": "YIZmYReFa457",
        "colab_type": "code",
        "colab": {
          "base_uri": "https://localhost:8080/",
          "height": 34
        },
        "outputId": "65e7ca83-3ca8-420f-fb72-c8def1bc4604"
      },
      "source": [
        " test_data = [\n",
        "              'I really love my dog',\n",
        "              'my dog loves my manatee'\n",
        " ]\n",
        " # When the tokenizer find a new word in the sentences, that he has never tokenized\n",
        " #really and manatee are not in the word_index see before, We use the <OOV> to fix that\n",
        " test_seq = tokenizer.texts_to_sequences(test_data)\n",
        " print(test_seq)"
      ],
      "execution_count": 5,
      "outputs": [
        {
          "output_type": "stream",
          "text": [
            "[[5, 1, 3, 2, 4], [2, 4, 1, 2, 1]]\n"
          ],
          "name": "stdout"
        }
      ]
    },
    {
      "cell_type": "code",
      "metadata": {
        "id": "ICWD0wr7e8eZ",
        "colab_type": "code",
        "colab": {}
      },
      "source": [
        "## When sentences doesn't have the same sentences, use pad_sentences"
      ],
      "execution_count": 6,
      "outputs": []
    },
    {
      "cell_type": "code",
      "metadata": {
        "id": "flEoI4SUg_8N",
        "colab_type": "code",
        "colab": {}
      },
      "source": [
        "from tensorflow.keras.preprocessing.sequence import pad_sequences"
      ],
      "execution_count": 7,
      "outputs": []
    },
    {
      "cell_type": "code",
      "metadata": {
        "id": "_c8u-AnrhXNo",
        "colab_type": "code",
        "colab": {
          "base_uri": "https://localhost:8080/",
          "height": 139
        },
        "outputId": "f41719d0-a990-427e-cacf-3034b7485683"
      },
      "source": [
        "sentences = [\n",
        "    'I love my dog',\n",
        "    'I love my cat',\n",
        "    'You love my dog',\n",
        "    'Do you think my dog is amazing'\n",
        "]\n",
        "\n",
        "tokenizer = Tokenizer(num_words = 100, oov_token= \"<OOV>\") # num_words: max number word to keep\n",
        "tokenizer.fit_on_texts(sentences) # fit the text to tokenize\n",
        "word_index = tokenizer.word_index\n",
        "\n",
        "sequences = tokenizer.texts_to_sequences(sentences)\n",
        "\n",
        "padded = pad_sequences(sequences) \n",
        "\n",
        "\"\"\" \n",
        "# we pass the sequences to the pad_sequences to pad it\n",
        "# to have the zero to the right side, we have to add the property \n",
        "padding = post to the pad_sequences, You can also fit the maxlen=x to cut the\n",
        "pad \"\"\"\n",
        "\n",
        "print(word_index)\n",
        "print(sequences)\n",
        "print(padded)"
      ],
      "execution_count": 8,
      "outputs": [
        {
          "output_type": "stream",
          "text": [
            "{'<OOV>': 1, 'my': 2, 'love': 3, 'dog': 4, 'i': 5, 'you': 6, 'cat': 7, 'do': 8, 'think': 9, 'is': 10, 'amazing': 11}\n",
            "[[5, 3, 2, 4], [5, 3, 2, 7], [6, 3, 2, 4], [8, 6, 9, 2, 4, 10, 11]]\n",
            "[[ 0  0  0  5  3  2  4]\n",
            " [ 0  0  0  5  3  2  7]\n",
            " [ 0  0  0  6  3  2  4]\n",
            " [ 8  6  9  2  4 10 11]]\n"
          ],
          "name": "stdout"
        }
      ]
    },
    {
      "cell_type": "code",
      "metadata": {
        "id": "Fs38FYCOho5X",
        "colab_type": "code",
        "colab": {}
      },
      "source": [
        "## Training a model to recognize sentiment in text"
      ],
      "execution_count": 9,
      "outputs": []
    },
    {
      "cell_type": "code",
      "metadata": {
        "id": "RgtDNjHDjir4",
        "colab_type": "code",
        "colab": {
          "base_uri": "https://localhost:8080/",
          "height": 224
        },
        "outputId": "0b259a5b-eab7-404c-94c8-f498650c5a10"
      },
      "source": [
        "!wget --no-check-certificate \\\n",
        "    https://storage.googleapis.com/laurencemoroney-blog.appspot.com/sarcasm.json \\\n",
        "    -O /content/sarcasm.json\n"
      ],
      "execution_count": 12,
      "outputs": [
        {
          "output_type": "stream",
          "text": [
            "--2020-06-26 15:46:06--  https://storage.googleapis.com/laurencemoroney-blog.appspot.com/sarcasm.json\n",
            "Resolving storage.googleapis.com (storage.googleapis.com)... 173.194.76.128, 142.250.13.128, 74.125.133.128, ...\n",
            "Connecting to storage.googleapis.com (storage.googleapis.com)|173.194.76.128|:443... connected.\n",
            "HTTP request sent, awaiting response... 200 OK\n",
            "Length: 5643545 (5.4M) [application/json]\n",
            "Saving to: ‘/content/sarcasm.json’\n",
            "\n",
            "\r/content/sarcasm.js   0%[                    ]       0  --.-KB/s               \r/content/sarcasm.js 100%[===================>]   5.38M  --.-KB/s    in 0.04s   \n",
            "\n",
            "2020-06-26 15:46:07 (132 MB/s) - ‘/content/sarcasm.json’ saved [5643545/5643545]\n",
            "\n"
          ],
          "name": "stdout"
        }
      ]
    },
    {
      "cell_type": "code",
      "metadata": {
        "id": "bfEfYkhultg4",
        "colab_type": "code",
        "colab": {
          "base_uri": "https://localhost:8080/",
          "height": 289
        },
        "outputId": "68bb572c-32e3-4c05-9e50-8bba53b69cc8"
      },
      "source": [
        "\n",
        "import numpy as np\n",
        "import pandas as pd\n",
        "data = pd.read_json('sample_data/sarcasm.json')\n",
        "data.head()\n"
      ],
      "execution_count": 13,
      "outputs": [
        {
          "output_type": "execute_result",
          "data": {
            "text/html": [
              "<div>\n",
              "<style scoped>\n",
              "    .dataframe tbody tr th:only-of-type {\n",
              "        vertical-align: middle;\n",
              "    }\n",
              "\n",
              "    .dataframe tbody tr th {\n",
              "        vertical-align: top;\n",
              "    }\n",
              "\n",
              "    .dataframe thead th {\n",
              "        text-align: right;\n",
              "    }\n",
              "</style>\n",
              "<table border=\"1\" class=\"dataframe\">\n",
              "  <thead>\n",
              "    <tr style=\"text-align: right;\">\n",
              "      <th></th>\n",
              "      <th>article_link</th>\n",
              "      <th>headline</th>\n",
              "      <th>is_sarcastic</th>\n",
              "    </tr>\n",
              "  </thead>\n",
              "  <tbody>\n",
              "    <tr>\n",
              "      <th>0</th>\n",
              "      <td>https://www.huffingtonpost.com/entry/versace-b...</td>\n",
              "      <td>former versace store clerk sues over secret 'b...</td>\n",
              "      <td>0</td>\n",
              "    </tr>\n",
              "    <tr>\n",
              "      <th>1</th>\n",
              "      <td>https://www.huffingtonpost.com/entry/roseanne-...</td>\n",
              "      <td>the 'roseanne' revival catches up to our thorn...</td>\n",
              "      <td>0</td>\n",
              "    </tr>\n",
              "    <tr>\n",
              "      <th>2</th>\n",
              "      <td>https://local.theonion.com/mom-starting-to-fea...</td>\n",
              "      <td>mom starting to fear son's web series closest ...</td>\n",
              "      <td>1</td>\n",
              "    </tr>\n",
              "    <tr>\n",
              "      <th>3</th>\n",
              "      <td>https://politics.theonion.com/boehner-just-wan...</td>\n",
              "      <td>boehner just wants wife to listen, not come up...</td>\n",
              "      <td>1</td>\n",
              "    </tr>\n",
              "    <tr>\n",
              "      <th>4</th>\n",
              "      <td>https://www.huffingtonpost.com/entry/jk-rowlin...</td>\n",
              "      <td>j.k. rowling wishes snape happy birthday in th...</td>\n",
              "      <td>0</td>\n",
              "    </tr>\n",
              "  </tbody>\n",
              "</table>\n",
              "</div>"
            ],
            "text/plain": [
              "                                        article_link  ... is_sarcastic\n",
              "0  https://www.huffingtonpost.com/entry/versace-b...  ...            0\n",
              "1  https://www.huffingtonpost.com/entry/roseanne-...  ...            0\n",
              "2  https://local.theonion.com/mom-starting-to-fea...  ...            1\n",
              "3  https://politics.theonion.com/boehner-just-wan...  ...            1\n",
              "4  https://www.huffingtonpost.com/entry/jk-rowlin...  ...            0\n",
              "\n",
              "[5 rows x 3 columns]"
            ]
          },
          "metadata": {
            "tags": []
          },
          "execution_count": 13
        }
      ]
    },
    {
      "cell_type": "code",
      "metadata": {
        "id": "VJx9kmeKtjId",
        "colab_type": "code",
        "colab": {}
      },
      "source": [
        "\n",
        "import json \n",
        "\n",
        "with open(\"sample_data/sarcasm.json\", 'r') as f:\n",
        "  datastore = json.load(f)"
      ],
      "execution_count": 14,
      "outputs": []
    },
    {
      "cell_type": "code",
      "metadata": {
        "id": "VLV--TWvmGSK",
        "colab_type": "code",
        "colab": {}
      },
      "source": [
        "sentences = []\n",
        "labels = []\n",
        "urls = []\n",
        "\n",
        "for item in datastore:\n",
        "  sentences.append(item['headline'])\n",
        "  labels.append(item['is_sarcastic'])\n",
        "  urls.append(item['article_link'])"
      ],
      "execution_count": 15,
      "outputs": []
    },
    {
      "cell_type": "code",
      "metadata": {
        "id": "LErMYV7moVpW",
        "colab_type": "code",
        "colab": {
          "base_uri": "https://localhost:8080/",
          "height": 34
        },
        "outputId": "ca47dc6b-40f7-487c-8d62-87bc452b4475"
      },
      "source": [
        "tokenizer = Tokenizer(oov_token= \"<OOV>\") \n",
        "tokenizer.fit_on_texts(sentences)\n",
        "word_index = tokenizer.word_index\n",
        "\n",
        "sequences = tokenizer.texts_to_sequences(sentences)\n",
        "\n",
        "padded = pad_sequences(sequences, padding='post')\n",
        "\n",
        "print(padded.shape)"
      ],
      "execution_count": 16,
      "outputs": [
        {
          "output_type": "stream",
          "text": [
            "(26709, 40)\n"
          ],
          "name": "stdout"
        }
      ]
    },
    {
      "cell_type": "markdown",
      "metadata": {
        "id": "Je17ix-8t6nz",
        "colab_type": "text"
      },
      "source": [
        "\n",
        "\n",
        "###Let's split the data to training and testing part\n",
        "\n"
      ]
    },
    {
      "cell_type": "code",
      "metadata": {
        "id": "DmMNhXSWuF-E",
        "colab_type": "code",
        "colab": {}
      },
      "source": [
        "vocab_size = 10000\n",
        "training_size = 20000\n",
        "testing_size = 10000\n",
        "vocab_size = 10000\n",
        "\n",
        "training_sentences = sentences[0:training_size]\n",
        "testing_sentences = sentences[training_size:]\n",
        "training_labels = labels[0:training_size]\n",
        "testing_labels = labels[training_size:]\n"
      ],
      "execution_count": 24,
      "outputs": []
    },
    {
      "cell_type": "code",
      "metadata": {
        "id": "h_DN7Hb3uY63",
        "colab_type": "code",
        "colab": {}
      },
      "source": [
        "tokenizer = Tokenizer(num_words=vocab_size, oov_token=\"<OOV>\")\n",
        "tokenizer.fit_on_texts(training_sentences)\n",
        "\n",
        "word_index = tokenizer.word_index\n",
        "\n",
        "training_sequences = tokenizer.texts_to_sequences(training_sentences)\n",
        "training_padded = pad_sequences(training_sequences, maxlen=100, padding=\"post\", \n",
        "                                truncating = \"post\")\n",
        "\n",
        "testing_sequences = tokenizer.texts_to_sequences(testing_sentences)\n",
        "testing_padded = pad_sequences(testing_sequences, maxlen=100, padding=\"post\", \n",
        "                                truncating = \"post\")"
      ],
      "execution_count": 33,
      "outputs": []
    },
    {
      "cell_type": "code",
      "metadata": {
        "id": "3SROBzSc2M9e",
        "colab_type": "code",
        "colab": {}
      },
      "source": [
        "vocab_size = 10000\n",
        "embedding_dim = 16\n",
        "max_length = 100"
      ],
      "execution_count": 26,
      "outputs": []
    },
    {
      "cell_type": "code",
      "metadata": {
        "id": "C37gl3yuxfUl",
        "colab_type": "code",
        "colab": {}
      },
      "source": [
        "model = tf.keras.Sequential([\n",
        "        tf.keras.layers.Embedding(vocab_size, embedding_dim, input_length=max_length),\n",
        "        tf.keras.layers.GlobalAveragePooling1D(),\n",
        "        tf.keras.layers.Dense(24, activation='relu'),\n",
        "        tf.keras.layers.Dense(1, activation='sigmoid')\n",
        "])\n",
        "\n",
        "model.compile(loss='binary_crossentropy', optimizer='adam', metrics=['accuracy'])"
      ],
      "execution_count": 34,
      "outputs": []
    },
    {
      "cell_type": "code",
      "metadata": {
        "id": "GkrJ5n6k2Bpg",
        "colab_type": "code",
        "colab": {
          "base_uri": "https://localhost:8080/",
          "height": 289
        },
        "outputId": "0f0e3f84-c0bf-40b9-d170-35b00a1b1d85"
      },
      "source": [
        "model.summary()"
      ],
      "execution_count": 35,
      "outputs": [
        {
          "output_type": "stream",
          "text": [
            "Model: \"sequential_2\"\n",
            "_________________________________________________________________\n",
            "Layer (type)                 Output Shape              Param #   \n",
            "=================================================================\n",
            "embedding_2 (Embedding)      (None, 100, 16)           160000    \n",
            "_________________________________________________________________\n",
            "global_average_pooling1d_2 ( (None, 16)                0         \n",
            "_________________________________________________________________\n",
            "dense_4 (Dense)              (None, 24)                408       \n",
            "_________________________________________________________________\n",
            "dense_5 (Dense)              (None, 1)                 25        \n",
            "=================================================================\n",
            "Total params: 160,433\n",
            "Trainable params: 160,433\n",
            "Non-trainable params: 0\n",
            "_________________________________________________________________\n"
          ],
          "name": "stdout"
        }
      ]
    },
    {
      "cell_type": "code",
      "metadata": {
        "id": "4bvUY6dK3YSV",
        "colab_type": "code",
        "colab": {}
      },
      "source": [
        "training_padded = np.array(training_padded)\n",
        "training_labels = np.array(training_labels)\n",
        "testing_padded = np.array(testing_padded)\n",
        "testing_labels = np.array(testing_labels)"
      ],
      "execution_count": 36,
      "outputs": []
    },
    {
      "cell_type": "code",
      "metadata": {
        "id": "-rsLLc_82fCo",
        "colab_type": "code",
        "colab": {
          "base_uri": "https://localhost:8080/",
          "height": 1000
        },
        "outputId": "504007dc-f1cd-47ed-a92c-ffaa60a52dd3"
      },
      "source": [
        "num_epochs = 30\n",
        "\n",
        "history = model.fit(training_padded, training_labels, epochs=num_epochs, \n",
        "                    validation_data=(testing_padded, testing_labels), verbose=2)"
      ],
      "execution_count": 37,
      "outputs": [
        {
          "output_type": "stream",
          "text": [
            "Epoch 1/30\n",
            "625/625 - 4s - loss: 0.6516 - accuracy: 0.6079 - val_loss: 0.5421 - val_accuracy: 0.7992\n",
            "Epoch 2/30\n",
            "625/625 - 3s - loss: 0.4039 - accuracy: 0.8388 - val_loss: 0.3755 - val_accuracy: 0.8465\n",
            "Epoch 3/30\n",
            "625/625 - 3s - loss: 0.3000 - accuracy: 0.8806 - val_loss: 0.3510 - val_accuracy: 0.8530\n",
            "Epoch 4/30\n",
            "625/625 - 3s - loss: 0.2480 - accuracy: 0.9033 - val_loss: 0.3447 - val_accuracy: 0.8563\n",
            "Epoch 5/30\n",
            "625/625 - 3s - loss: 0.2134 - accuracy: 0.9184 - val_loss: 0.3657 - val_accuracy: 0.8432\n",
            "Epoch 6/30\n",
            "625/625 - 3s - loss: 0.1887 - accuracy: 0.9295 - val_loss: 0.3566 - val_accuracy: 0.8557\n",
            "Epoch 7/30\n",
            "625/625 - 3s - loss: 0.1661 - accuracy: 0.9385 - val_loss: 0.3706 - val_accuracy: 0.8554\n",
            "Epoch 8/30\n",
            "625/625 - 3s - loss: 0.1463 - accuracy: 0.9464 - val_loss: 0.4131 - val_accuracy: 0.8410\n",
            "Epoch 9/30\n",
            "625/625 - 3s - loss: 0.1317 - accuracy: 0.9530 - val_loss: 0.4126 - val_accuracy: 0.8499\n",
            "Epoch 10/30\n",
            "625/625 - 3s - loss: 0.1191 - accuracy: 0.9574 - val_loss: 0.4428 - val_accuracy: 0.8459\n",
            "Epoch 11/30\n",
            "625/625 - 3s - loss: 0.1093 - accuracy: 0.9622 - val_loss: 0.4824 - val_accuracy: 0.8375\n",
            "Epoch 12/30\n",
            "625/625 - 3s - loss: 0.0987 - accuracy: 0.9661 - val_loss: 0.4915 - val_accuracy: 0.8429\n",
            "Epoch 13/30\n",
            "625/625 - 3s - loss: 0.0879 - accuracy: 0.9699 - val_loss: 0.5327 - val_accuracy: 0.8378\n",
            "Epoch 14/30\n",
            "625/625 - 3s - loss: 0.0844 - accuracy: 0.9704 - val_loss: 0.5975 - val_accuracy: 0.8302\n",
            "Epoch 15/30\n",
            "625/625 - 3s - loss: 0.0733 - accuracy: 0.9760 - val_loss: 0.6082 - val_accuracy: 0.8331\n",
            "Epoch 16/30\n",
            "625/625 - 3s - loss: 0.0668 - accuracy: 0.9793 - val_loss: 0.6250 - val_accuracy: 0.8337\n",
            "Epoch 17/30\n",
            "625/625 - 3s - loss: 0.0617 - accuracy: 0.9794 - val_loss: 0.6678 - val_accuracy: 0.8307\n",
            "Epoch 18/30\n",
            "625/625 - 3s - loss: 0.0559 - accuracy: 0.9823 - val_loss: 0.7212 - val_accuracy: 0.8272\n",
            "Epoch 19/30\n",
            "625/625 - 3s - loss: 0.0522 - accuracy: 0.9833 - val_loss: 0.7598 - val_accuracy: 0.8275\n",
            "Epoch 20/30\n",
            "625/625 - 3s - loss: 0.0465 - accuracy: 0.9847 - val_loss: 0.8769 - val_accuracy: 0.8207\n",
            "Epoch 21/30\n",
            "625/625 - 3s - loss: 0.0419 - accuracy: 0.9877 - val_loss: 0.8436 - val_accuracy: 0.8232\n",
            "Epoch 22/30\n",
            "625/625 - 3s - loss: 0.0388 - accuracy: 0.9885 - val_loss: 0.8830 - val_accuracy: 0.8220\n",
            "Epoch 23/30\n",
            "625/625 - 3s - loss: 0.0348 - accuracy: 0.9901 - val_loss: 0.9152 - val_accuracy: 0.8192\n",
            "Epoch 24/30\n",
            "625/625 - 3s - loss: 0.0323 - accuracy: 0.9909 - val_loss: 0.9843 - val_accuracy: 0.8185\n",
            "Epoch 25/30\n",
            "625/625 - 3s - loss: 0.0317 - accuracy: 0.9901 - val_loss: 1.0291 - val_accuracy: 0.8173\n",
            "Epoch 26/30\n",
            "625/625 - 3s - loss: 0.0306 - accuracy: 0.9910 - val_loss: 1.0802 - val_accuracy: 0.8153\n",
            "Epoch 27/30\n",
            "625/625 - 3s - loss: 0.0251 - accuracy: 0.9926 - val_loss: 1.1358 - val_accuracy: 0.8152\n",
            "Epoch 28/30\n",
            "625/625 - 3s - loss: 0.0230 - accuracy: 0.9937 - val_loss: 1.1178 - val_accuracy: 0.8119\n",
            "Epoch 29/30\n",
            "625/625 - 4s - loss: 0.0214 - accuracy: 0.9942 - val_loss: 1.1678 - val_accuracy: 0.8122\n",
            "Epoch 30/30\n",
            "625/625 - 4s - loss: 0.0193 - accuracy: 0.9951 - val_loss: 1.2129 - val_accuracy: 0.8125\n"
          ],
          "name": "stdout"
        }
      ]
    },
    {
      "cell_type": "code",
      "metadata": {
        "id": "dddTb9Gr22Zb",
        "colab_type": "code",
        "colab": {
          "base_uri": "https://localhost:8080/",
          "height": 51
        },
        "outputId": "f6572036-42aa-4aa9-8f39-75a941db88f1"
      },
      "source": [
        "a_new_sentence = [\n",
        "                  \"granny starting to fear spiders in the garden might be real\", \n",
        "                  \"game of thrones season finale showing this sunday night\"\n",
        "]\n",
        "\n",
        "sequences = tokenizer.texts_to_sequences(a_new_sentence)\n",
        "\n",
        "padded = pad_sequences(sequences, maxlen=max_length, padding=\"post\",\n",
        "                       truncating=\"post\")\n",
        "\n",
        "print(model.predict(padded))"
      ],
      "execution_count": 40,
      "outputs": [
        {
          "output_type": "stream",
          "text": [
            "[[9.5397562e-01]\n",
            " [3.5368512e-07]]\n"
          ],
          "name": "stdout"
        }
      ]
    },
    {
      "cell_type": "code",
      "metadata": {
        "id": "9wMYjbFL8exS",
        "colab_type": "code",
        "colab": {}
      },
      "source": [
        ""
      ],
      "execution_count": null,
      "outputs": []
    }
  ]
}